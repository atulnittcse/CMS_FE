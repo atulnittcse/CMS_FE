{
  "nbformat": 4,
  "nbformat_minor": 0,
  "metadata": {
    "colab": {
      "provenance": [],
      "toc_visible": true,
      "authorship_tag": "ABX9TyPG+LqRJEfmy2QgUYlkvk7N",
      "include_colab_link": true
    },
    "kernelspec": {
      "name": "python3",
      "display_name": "Python 3"
    },
    "language_info": {
      "name": "python"
    }
  },
  "cells": [
    {
      "cell_type": "markdown",
      "metadata": {
        "id": "view-in-github",
        "colab_type": "text"
      },
      "source": [
        "<a href=\"https://colab.research.google.com/github/atulnittcse/CMS_FE/blob/main/read_wada_local_files.ipynb\" target=\"_parent\"><img src=\"https://colab.research.google.com/assets/colab-badge.svg\" alt=\"Open In Colab\"/></a>"
      ]
    },
    {
      "cell_type": "code",
      "execution_count": 13,
      "metadata": {
        "colab": {
          "base_uri": "https://localhost:8080/",
          "height": 73
        },
        "id": "jSKiwXG71bGI",
        "outputId": "ac37def1-b235-49bc-ddf1-b9b6caf504c0"
      },
      "outputs": [
        {
          "output_type": "display_data",
          "data": {
            "text/plain": [
              "<IPython.core.display.HTML object>"
            ],
            "text/html": [
              "\n",
              "     <input type=\"file\" id=\"files-d983f4ac-253a-4324-9158-077c45cf91e1\" name=\"files[]\" multiple disabled\n",
              "        style=\"border:none\" />\n",
              "     <output id=\"result-d983f4ac-253a-4324-9158-077c45cf91e1\">\n",
              "      Upload widget is only available when the cell has been executed in the\n",
              "      current browser session. Please rerun this cell to enable.\n",
              "      </output>\n",
              "      <script>// Copyright 2017 Google LLC\n",
              "//\n",
              "// Licensed under the Apache License, Version 2.0 (the \"License\");\n",
              "// you may not use this file except in compliance with the License.\n",
              "// You may obtain a copy of the License at\n",
              "//\n",
              "//      http://www.apache.org/licenses/LICENSE-2.0\n",
              "//\n",
              "// Unless required by applicable law or agreed to in writing, software\n",
              "// distributed under the License is distributed on an \"AS IS\" BASIS,\n",
              "// WITHOUT WARRANTIES OR CONDITIONS OF ANY KIND, either express or implied.\n",
              "// See the License for the specific language governing permissions and\n",
              "// limitations under the License.\n",
              "\n",
              "/**\n",
              " * @fileoverview Helpers for google.colab Python module.\n",
              " */\n",
              "(function(scope) {\n",
              "function span(text, styleAttributes = {}) {\n",
              "  const element = document.createElement('span');\n",
              "  element.textContent = text;\n",
              "  for (const key of Object.keys(styleAttributes)) {\n",
              "    element.style[key] = styleAttributes[key];\n",
              "  }\n",
              "  return element;\n",
              "}\n",
              "\n",
              "// Max number of bytes which will be uploaded at a time.\n",
              "const MAX_PAYLOAD_SIZE = 100 * 1024;\n",
              "\n",
              "function _uploadFiles(inputId, outputId) {\n",
              "  const steps = uploadFilesStep(inputId, outputId);\n",
              "  const outputElement = document.getElementById(outputId);\n",
              "  // Cache steps on the outputElement to make it available for the next call\n",
              "  // to uploadFilesContinue from Python.\n",
              "  outputElement.steps = steps;\n",
              "\n",
              "  return _uploadFilesContinue(outputId);\n",
              "}\n",
              "\n",
              "// This is roughly an async generator (not supported in the browser yet),\n",
              "// where there are multiple asynchronous steps and the Python side is going\n",
              "// to poll for completion of each step.\n",
              "// This uses a Promise to block the python side on completion of each step,\n",
              "// then passes the result of the previous step as the input to the next step.\n",
              "function _uploadFilesContinue(outputId) {\n",
              "  const outputElement = document.getElementById(outputId);\n",
              "  const steps = outputElement.steps;\n",
              "\n",
              "  const next = steps.next(outputElement.lastPromiseValue);\n",
              "  return Promise.resolve(next.value.promise).then((value) => {\n",
              "    // Cache the last promise value to make it available to the next\n",
              "    // step of the generator.\n",
              "    outputElement.lastPromiseValue = value;\n",
              "    return next.value.response;\n",
              "  });\n",
              "}\n",
              "\n",
              "/**\n",
              " * Generator function which is called between each async step of the upload\n",
              " * process.\n",
              " * @param {string} inputId Element ID of the input file picker element.\n",
              " * @param {string} outputId Element ID of the output display.\n",
              " * @return {!Iterable<!Object>} Iterable of next steps.\n",
              " */\n",
              "function* uploadFilesStep(inputId, outputId) {\n",
              "  const inputElement = document.getElementById(inputId);\n",
              "  inputElement.disabled = false;\n",
              "\n",
              "  const outputElement = document.getElementById(outputId);\n",
              "  outputElement.innerHTML = '';\n",
              "\n",
              "  const pickedPromise = new Promise((resolve) => {\n",
              "    inputElement.addEventListener('change', (e) => {\n",
              "      resolve(e.target.files);\n",
              "    });\n",
              "  });\n",
              "\n",
              "  const cancel = document.createElement('button');\n",
              "  inputElement.parentElement.appendChild(cancel);\n",
              "  cancel.textContent = 'Cancel upload';\n",
              "  const cancelPromise = new Promise((resolve) => {\n",
              "    cancel.onclick = () => {\n",
              "      resolve(null);\n",
              "    };\n",
              "  });\n",
              "\n",
              "  // Wait for the user to pick the files.\n",
              "  const files = yield {\n",
              "    promise: Promise.race([pickedPromise, cancelPromise]),\n",
              "    response: {\n",
              "      action: 'starting',\n",
              "    }\n",
              "  };\n",
              "\n",
              "  cancel.remove();\n",
              "\n",
              "  // Disable the input element since further picks are not allowed.\n",
              "  inputElement.disabled = true;\n",
              "\n",
              "  if (!files) {\n",
              "    return {\n",
              "      response: {\n",
              "        action: 'complete',\n",
              "      }\n",
              "    };\n",
              "  }\n",
              "\n",
              "  for (const file of files) {\n",
              "    const li = document.createElement('li');\n",
              "    li.append(span(file.name, {fontWeight: 'bold'}));\n",
              "    li.append(span(\n",
              "        `(${file.type || 'n/a'}) - ${file.size} bytes, ` +\n",
              "        `last modified: ${\n",
              "            file.lastModifiedDate ? file.lastModifiedDate.toLocaleDateString() :\n",
              "                                    'n/a'} - `));\n",
              "    const percent = span('0% done');\n",
              "    li.appendChild(percent);\n",
              "\n",
              "    outputElement.appendChild(li);\n",
              "\n",
              "    const fileDataPromise = new Promise((resolve) => {\n",
              "      const reader = new FileReader();\n",
              "      reader.onload = (e) => {\n",
              "        resolve(e.target.result);\n",
              "      };\n",
              "      reader.readAsArrayBuffer(file);\n",
              "    });\n",
              "    // Wait for the data to be ready.\n",
              "    let fileData = yield {\n",
              "      promise: fileDataPromise,\n",
              "      response: {\n",
              "        action: 'continue',\n",
              "      }\n",
              "    };\n",
              "\n",
              "    // Use a chunked sending to avoid message size limits. See b/62115660.\n",
              "    let position = 0;\n",
              "    do {\n",
              "      const length = Math.min(fileData.byteLength - position, MAX_PAYLOAD_SIZE);\n",
              "      const chunk = new Uint8Array(fileData, position, length);\n",
              "      position += length;\n",
              "\n",
              "      const base64 = btoa(String.fromCharCode.apply(null, chunk));\n",
              "      yield {\n",
              "        response: {\n",
              "          action: 'append',\n",
              "          file: file.name,\n",
              "          data: base64,\n",
              "        },\n",
              "      };\n",
              "\n",
              "      let percentDone = fileData.byteLength === 0 ?\n",
              "          100 :\n",
              "          Math.round((position / fileData.byteLength) * 100);\n",
              "      percent.textContent = `${percentDone}% done`;\n",
              "\n",
              "    } while (position < fileData.byteLength);\n",
              "  }\n",
              "\n",
              "  // All done.\n",
              "  yield {\n",
              "    response: {\n",
              "      action: 'complete',\n",
              "    }\n",
              "  };\n",
              "}\n",
              "\n",
              "scope.google = scope.google || {};\n",
              "scope.google.colab = scope.google.colab || {};\n",
              "scope.google.colab._files = {\n",
              "  _uploadFiles,\n",
              "  _uploadFilesContinue,\n",
              "};\n",
              "})(self);\n",
              "</script> "
            ]
          },
          "metadata": {}
        },
        {
          "output_type": "stream",
          "name": "stdout",
          "text": [
            "Saving client_secret.json to client_secret (1).json\n"
          ]
        }
      ],
      "source": [
        "from google.colab import files\n",
        "uploaded = files.upload()\n"
      ]
    },
    {
      "cell_type": "code",
      "source": [
        "import shutil\n",
        "shutil.move('client_secrets.json', '/root/.config')\n"
      ],
      "metadata": {
        "id": "CkhM2C_P8zW4"
      },
      "execution_count": 30,
      "outputs": []
    },
    {
      "cell_type": "code",
      "source": [
        "!pip install pydrive\n",
        "\n",
        "\n",
        "from pydrive.auth import GoogleAuth\n",
        "from pydrive.drive import GoogleDrive\n",
        "\n",
        "\n",
        "# Authenticate with Google Drive\n",
        "gauth = GoogleAuth()\n",
        "drive = GoogleDrive(gauth)\n",
        "\n",
        "\n",
        "# List all files shared with you\n",
        "file_list = drive.ListFile({'q': \"'root' in parents and sharedWithMe=true\"}).GetList()\n",
        "\n",
        "# Print the list of files\n",
        "for file in file_list:\n",
        "    print(file['title'])\n",
        "    break\n",
        "\n"
      ],
      "metadata": {
        "id": "h7O1iddJ8XwX"
      },
      "execution_count": 30,
      "outputs": []
    },
    {
      "cell_type": "code",
      "source": [
        "from google.colab import drive\n",
        "drive.mount('/content/drive')\n",
        "\n",
        "\n",
        "\n",
        "import os\n",
        "\n",
        "path = '/content/drive/MyDrive/wada'  # Set the path to your Google Drive folder\n",
        "\n",
        "# TODO\n",
        "# path = '/content/Shared with me/MyDrive/Kotwali PS_VCNB_BGP'  # Set the path to your Google Drive folder\n",
        "\n",
        "# List all files in the specified path\n",
        "files = []\n",
        "sample_filename = \"\"\n",
        "for root, _, filenames in os.walk(path):\n",
        "    for filename in filenames:\n",
        "        if str(filename)[0] == \"1\":\n",
        "          df_temp = pd.read_excel(filename)\n",
        "          final_cols_list = list(df_temp.columns.values)\n",
        "          files.append(os.path.join(root, filename))\n",
        "        \n",
        "# Print the list of files\n",
        "for file in files:\n",
        "    print(file)\n",
        "\n",
        "print(\"printed all the files\")"
      ],
      "metadata": {
        "colab": {
          "base_uri": "https://localhost:8080/",
          "height": 397
        },
        "id": "GhauQtG17elJ",
        "outputId": "0f736621-fe1c-4131-83c5-e7e61949fd21"
      },
      "execution_count": 32,
      "outputs": [
        {
          "output_type": "stream",
          "name": "stdout",
          "text": [
            "Drive already mounted at /content/drive; to attempt to forcibly remount, call drive.mount(\"/content/drive\", force_remount=True).\n"
          ]
        },
        {
          "output_type": "error",
          "ename": "FileNotFoundError",
          "evalue": "ignored",
          "traceback": [
            "\u001b[0;31m---------------------------------------------------------------------------\u001b[0m",
            "\u001b[0;31mFileNotFoundError\u001b[0m                         Traceback (most recent call last)",
            "\u001b[0;32m<ipython-input-32-172f8954e604>\u001b[0m in \u001b[0;36m<cell line: 16>\u001b[0;34m()\u001b[0m\n\u001b[1;32m     17\u001b[0m     \u001b[0;32mfor\u001b[0m \u001b[0mfilename\u001b[0m \u001b[0;32min\u001b[0m \u001b[0mfilenames\u001b[0m\u001b[0;34m:\u001b[0m\u001b[0;34m\u001b[0m\u001b[0;34m\u001b[0m\u001b[0m\n\u001b[1;32m     18\u001b[0m         \u001b[0;32mif\u001b[0m \u001b[0mstr\u001b[0m\u001b[0;34m(\u001b[0m\u001b[0mfilename\u001b[0m\u001b[0;34m)\u001b[0m\u001b[0;34m[\u001b[0m\u001b[0;36m0\u001b[0m\u001b[0;34m]\u001b[0m \u001b[0;34m==\u001b[0m \u001b[0;34m\"1\"\u001b[0m\u001b[0;34m:\u001b[0m\u001b[0;34m\u001b[0m\u001b[0;34m\u001b[0m\u001b[0m\n\u001b[0;32m---> 19\u001b[0;31m           \u001b[0mdf_temp\u001b[0m \u001b[0;34m=\u001b[0m \u001b[0mpd\u001b[0m\u001b[0;34m.\u001b[0m\u001b[0mread_excel\u001b[0m\u001b[0;34m(\u001b[0m\u001b[0mfilename\u001b[0m\u001b[0;34m)\u001b[0m\u001b[0;34m\u001b[0m\u001b[0;34m\u001b[0m\u001b[0m\n\u001b[0m\u001b[1;32m     20\u001b[0m           \u001b[0mfinal_cols_list\u001b[0m \u001b[0;34m=\u001b[0m \u001b[0mlist\u001b[0m\u001b[0;34m(\u001b[0m\u001b[0mdf_temp\u001b[0m\u001b[0;34m.\u001b[0m\u001b[0mcolumns\u001b[0m\u001b[0;34m.\u001b[0m\u001b[0mvalues\u001b[0m\u001b[0;34m)\u001b[0m\u001b[0;34m\u001b[0m\u001b[0;34m\u001b[0m\u001b[0m\n\u001b[1;32m     21\u001b[0m           \u001b[0mfiles\u001b[0m\u001b[0;34m.\u001b[0m\u001b[0mappend\u001b[0m\u001b[0;34m(\u001b[0m\u001b[0mos\u001b[0m\u001b[0;34m.\u001b[0m\u001b[0mpath\u001b[0m\u001b[0;34m.\u001b[0m\u001b[0mjoin\u001b[0m\u001b[0;34m(\u001b[0m\u001b[0mroot\u001b[0m\u001b[0;34m,\u001b[0m \u001b[0mfilename\u001b[0m\u001b[0;34m)\u001b[0m\u001b[0;34m)\u001b[0m\u001b[0;34m\u001b[0m\u001b[0;34m\u001b[0m\u001b[0m\n",
            "\u001b[0;32m/usr/local/lib/python3.10/dist-packages/pandas/util/_decorators.py\u001b[0m in \u001b[0;36mwrapper\u001b[0;34m(*args, **kwargs)\u001b[0m\n\u001b[1;32m    209\u001b[0m                 \u001b[0;32melse\u001b[0m\u001b[0;34m:\u001b[0m\u001b[0;34m\u001b[0m\u001b[0;34m\u001b[0m\u001b[0m\n\u001b[1;32m    210\u001b[0m                     \u001b[0mkwargs\u001b[0m\u001b[0;34m[\u001b[0m\u001b[0mnew_arg_name\u001b[0m\u001b[0;34m]\u001b[0m \u001b[0;34m=\u001b[0m \u001b[0mnew_arg_value\u001b[0m\u001b[0;34m\u001b[0m\u001b[0;34m\u001b[0m\u001b[0m\n\u001b[0;32m--> 211\u001b[0;31m             \u001b[0;32mreturn\u001b[0m \u001b[0mfunc\u001b[0m\u001b[0;34m(\u001b[0m\u001b[0;34m*\u001b[0m\u001b[0margs\u001b[0m\u001b[0;34m,\u001b[0m \u001b[0;34m**\u001b[0m\u001b[0mkwargs\u001b[0m\u001b[0;34m)\u001b[0m\u001b[0;34m\u001b[0m\u001b[0;34m\u001b[0m\u001b[0m\n\u001b[0m\u001b[1;32m    212\u001b[0m \u001b[0;34m\u001b[0m\u001b[0m\n\u001b[1;32m    213\u001b[0m         \u001b[0;32mreturn\u001b[0m \u001b[0mcast\u001b[0m\u001b[0;34m(\u001b[0m\u001b[0mF\u001b[0m\u001b[0;34m,\u001b[0m \u001b[0mwrapper\u001b[0m\u001b[0;34m)\u001b[0m\u001b[0;34m\u001b[0m\u001b[0;34m\u001b[0m\u001b[0m\n",
            "\u001b[0;32m/usr/local/lib/python3.10/dist-packages/pandas/util/_decorators.py\u001b[0m in \u001b[0;36mwrapper\u001b[0;34m(*args, **kwargs)\u001b[0m\n\u001b[1;32m    329\u001b[0m                     \u001b[0mstacklevel\u001b[0m\u001b[0;34m=\u001b[0m\u001b[0mfind_stack_level\u001b[0m\u001b[0;34m(\u001b[0m\u001b[0;34m)\u001b[0m\u001b[0;34m,\u001b[0m\u001b[0;34m\u001b[0m\u001b[0;34m\u001b[0m\u001b[0m\n\u001b[1;32m    330\u001b[0m                 )\n\u001b[0;32m--> 331\u001b[0;31m             \u001b[0;32mreturn\u001b[0m \u001b[0mfunc\u001b[0m\u001b[0;34m(\u001b[0m\u001b[0;34m*\u001b[0m\u001b[0margs\u001b[0m\u001b[0;34m,\u001b[0m \u001b[0;34m**\u001b[0m\u001b[0mkwargs\u001b[0m\u001b[0;34m)\u001b[0m\u001b[0;34m\u001b[0m\u001b[0;34m\u001b[0m\u001b[0m\n\u001b[0m\u001b[1;32m    332\u001b[0m \u001b[0;34m\u001b[0m\u001b[0m\n\u001b[1;32m    333\u001b[0m         \u001b[0;31m# error: \"Callable[[VarArg(Any), KwArg(Any)], Any]\" has no\u001b[0m\u001b[0;34m\u001b[0m\u001b[0;34m\u001b[0m\u001b[0m\n",
            "\u001b[0;32m/usr/local/lib/python3.10/dist-packages/pandas/io/excel/_base.py\u001b[0m in \u001b[0;36mread_excel\u001b[0;34m(io, sheet_name, header, names, index_col, usecols, squeeze, dtype, engine, converters, true_values, false_values, skiprows, nrows, na_values, keep_default_na, na_filter, verbose, parse_dates, date_parser, thousands, decimal, comment, skipfooter, convert_float, mangle_dupe_cols, storage_options)\u001b[0m\n\u001b[1;32m    480\u001b[0m     \u001b[0;32mif\u001b[0m \u001b[0;32mnot\u001b[0m \u001b[0misinstance\u001b[0m\u001b[0;34m(\u001b[0m\u001b[0mio\u001b[0m\u001b[0;34m,\u001b[0m \u001b[0mExcelFile\u001b[0m\u001b[0;34m)\u001b[0m\u001b[0;34m:\u001b[0m\u001b[0;34m\u001b[0m\u001b[0;34m\u001b[0m\u001b[0m\n\u001b[1;32m    481\u001b[0m         \u001b[0mshould_close\u001b[0m \u001b[0;34m=\u001b[0m \u001b[0;32mTrue\u001b[0m\u001b[0;34m\u001b[0m\u001b[0;34m\u001b[0m\u001b[0m\n\u001b[0;32m--> 482\u001b[0;31m         \u001b[0mio\u001b[0m \u001b[0;34m=\u001b[0m \u001b[0mExcelFile\u001b[0m\u001b[0;34m(\u001b[0m\u001b[0mio\u001b[0m\u001b[0;34m,\u001b[0m \u001b[0mstorage_options\u001b[0m\u001b[0;34m=\u001b[0m\u001b[0mstorage_options\u001b[0m\u001b[0;34m,\u001b[0m \u001b[0mengine\u001b[0m\u001b[0;34m=\u001b[0m\u001b[0mengine\u001b[0m\u001b[0;34m)\u001b[0m\u001b[0;34m\u001b[0m\u001b[0;34m\u001b[0m\u001b[0m\n\u001b[0m\u001b[1;32m    483\u001b[0m     \u001b[0;32melif\u001b[0m \u001b[0mengine\u001b[0m \u001b[0;32mand\u001b[0m \u001b[0mengine\u001b[0m \u001b[0;34m!=\u001b[0m \u001b[0mio\u001b[0m\u001b[0;34m.\u001b[0m\u001b[0mengine\u001b[0m\u001b[0;34m:\u001b[0m\u001b[0;34m\u001b[0m\u001b[0;34m\u001b[0m\u001b[0m\n\u001b[1;32m    484\u001b[0m         raise ValueError(\n",
            "\u001b[0;32m/usr/local/lib/python3.10/dist-packages/pandas/io/excel/_base.py\u001b[0m in \u001b[0;36m__init__\u001b[0;34m(self, path_or_buffer, engine, storage_options)\u001b[0m\n\u001b[1;32m   1650\u001b[0m                 \u001b[0mext\u001b[0m \u001b[0;34m=\u001b[0m \u001b[0;34m\"xls\"\u001b[0m\u001b[0;34m\u001b[0m\u001b[0;34m\u001b[0m\u001b[0m\n\u001b[1;32m   1651\u001b[0m             \u001b[0;32melse\u001b[0m\u001b[0;34m:\u001b[0m\u001b[0;34m\u001b[0m\u001b[0;34m\u001b[0m\u001b[0m\n\u001b[0;32m-> 1652\u001b[0;31m                 ext = inspect_excel_format(\n\u001b[0m\u001b[1;32m   1653\u001b[0m                     \u001b[0mcontent_or_path\u001b[0m\u001b[0;34m=\u001b[0m\u001b[0mpath_or_buffer\u001b[0m\u001b[0;34m,\u001b[0m \u001b[0mstorage_options\u001b[0m\u001b[0;34m=\u001b[0m\u001b[0mstorage_options\u001b[0m\u001b[0;34m\u001b[0m\u001b[0;34m\u001b[0m\u001b[0m\n\u001b[1;32m   1654\u001b[0m                 )\n",
            "\u001b[0;32m/usr/local/lib/python3.10/dist-packages/pandas/io/excel/_base.py\u001b[0m in \u001b[0;36minspect_excel_format\u001b[0;34m(content_or_path, storage_options)\u001b[0m\n\u001b[1;32m   1523\u001b[0m         \u001b[0mcontent_or_path\u001b[0m \u001b[0;34m=\u001b[0m \u001b[0mBytesIO\u001b[0m\u001b[0;34m(\u001b[0m\u001b[0mcontent_or_path\u001b[0m\u001b[0;34m)\u001b[0m\u001b[0;34m\u001b[0m\u001b[0;34m\u001b[0m\u001b[0m\n\u001b[1;32m   1524\u001b[0m \u001b[0;34m\u001b[0m\u001b[0m\n\u001b[0;32m-> 1525\u001b[0;31m     with get_handle(\n\u001b[0m\u001b[1;32m   1526\u001b[0m         \u001b[0mcontent_or_path\u001b[0m\u001b[0;34m,\u001b[0m \u001b[0;34m\"rb\"\u001b[0m\u001b[0;34m,\u001b[0m \u001b[0mstorage_options\u001b[0m\u001b[0;34m=\u001b[0m\u001b[0mstorage_options\u001b[0m\u001b[0;34m,\u001b[0m \u001b[0mis_text\u001b[0m\u001b[0;34m=\u001b[0m\u001b[0;32mFalse\u001b[0m\u001b[0;34m\u001b[0m\u001b[0;34m\u001b[0m\u001b[0m\n\u001b[1;32m   1527\u001b[0m     ) as handle:\n",
            "\u001b[0;32m/usr/local/lib/python3.10/dist-packages/pandas/io/common.py\u001b[0m in \u001b[0;36mget_handle\u001b[0;34m(path_or_buf, mode, encoding, compression, memory_map, is_text, errors, storage_options)\u001b[0m\n\u001b[1;32m    863\u001b[0m         \u001b[0;32melse\u001b[0m\u001b[0;34m:\u001b[0m\u001b[0;34m\u001b[0m\u001b[0;34m\u001b[0m\u001b[0m\n\u001b[1;32m    864\u001b[0m             \u001b[0;31m# Binary mode\u001b[0m\u001b[0;34m\u001b[0m\u001b[0;34m\u001b[0m\u001b[0m\n\u001b[0;32m--> 865\u001b[0;31m             \u001b[0mhandle\u001b[0m \u001b[0;34m=\u001b[0m \u001b[0mopen\u001b[0m\u001b[0;34m(\u001b[0m\u001b[0mhandle\u001b[0m\u001b[0;34m,\u001b[0m \u001b[0mioargs\u001b[0m\u001b[0;34m.\u001b[0m\u001b[0mmode\u001b[0m\u001b[0;34m)\u001b[0m\u001b[0;34m\u001b[0m\u001b[0;34m\u001b[0m\u001b[0m\n\u001b[0m\u001b[1;32m    866\u001b[0m         \u001b[0mhandles\u001b[0m\u001b[0;34m.\u001b[0m\u001b[0mappend\u001b[0m\u001b[0;34m(\u001b[0m\u001b[0mhandle\u001b[0m\u001b[0;34m)\u001b[0m\u001b[0;34m\u001b[0m\u001b[0;34m\u001b[0m\u001b[0m\n\u001b[1;32m    867\u001b[0m \u001b[0;34m\u001b[0m\u001b[0m\n",
            "\u001b[0;31mFileNotFoundError\u001b[0m: [Errno 2] No such file or directory: '1 Kotwali_Total Final Report_VCNB_Uptodate 18.05.2023.xlsx'"
          ]
        }
      ]
    },
    {
      "cell_type": "code",
      "source": [
        "from google.colab import drive\n",
        "drive.mount('/content/drive')\n",
        "\n",
        "\n",
        "\n",
        "import os\n",
        "\n",
        "path = '/content/drive/MyDrive/wada'  # Set the path to your Google Drive folder\n",
        "\n",
        "# TODO\n",
        "# path = '/content/Shared with me/MyDrive/Kotwali PS_VCNB_BGP'  # Set the path to your Google Drive folder\n",
        "\n",
        "# List all files in the specified path\n",
        "files = []\n",
        "sample_filename =  '/content/drive/MyDrive/wadta/1 Kotwali_Total Final Report_VCNB_Uptodate 18.05.2023.xlsx'\n",
        "for root, _, filenames in os.walk(path):\n",
        "    for filename in filenames:\n",
        "        if str(filename)[0] == \"1\":\n",
        "          temp_list = list(pd.read_excel(sample_filename).columns.values)\n",
        "          df_temp = pd.read_excel(filename)\n",
        "          final_cols_list = list(df_temp.columns.values)\n",
        "          files.append(os.path.join(root, filename))\n",
        "        \n",
        "# Print the list of files\n",
        "for file in files:\n",
        "    print(file)\n",
        "\n",
        "print(\"printed all the files\")"
      ],
      "metadata": {
        "id": "Mzpkgn_g-ug-"
      },
      "execution_count": 19,
      "outputs": []
    },
    {
      "cell_type": "code",
      "source": [
        "# working code: \n",
        "from google.colab import drive\n",
        "drive.mount('/content/drive')\n",
        "\n",
        "\n",
        "\n",
        "import os\n",
        "\n",
        "path = '/content/drive/MyDrive/wada'  # Set the path to your Google Drive folder\n",
        "\n",
        "# TODO\n",
        "# path = '/content/Shared with me/MyDrive/Kotwali PS_VCNB_BGP'  # Set the path to your Google Drive folder\n",
        "\n",
        "# List all files in the specified path\n",
        "files = []\n",
        "for root, _, filenames in os.walk(path):\n",
        "    for filename in filenames:\n",
        "          files.append(os.path.join(root, filename))\n",
        "        \n",
        "# Print the list of files\n",
        "for file in files:\n",
        "    print(file)\n",
        "\n",
        "print(\"printed all the files\")"
      ],
      "metadata": {
        "colab": {
          "base_uri": "https://localhost:8080/"
        },
        "id": "P_tgb9no_Z-e",
        "outputId": "1e11c6e7-96d5-4bb3-efee-8a5ff0b3ed26"
      },
      "execution_count": 33,
      "outputs": [
        {
          "output_type": "stream",
          "name": "stdout",
          "text": [
            "Drive already mounted at /content/drive; to attempt to forcibly remount, call drive.mount(\"/content/drive\", force_remount=True).\n",
            "/content/drive/MyDrive/wada/1 Kotwali_Total Final Report_VCNB_Uptodate 18.05.2023.xlsx\n",
            "/content/drive/MyDrive/wada/Kotwali PS_jamuara_VCNB_Uptodate_18.05.2023.xlsx\n",
            "/content/drive/MyDrive/wada/Kotwali PS_khanwa_VCNB_Uptodate_18.05.2023.xlsx\n",
            "/content/drive/MyDrive/wada/Kotwali PS_Babhanour_VCNB_Uptodate_18.05.2023.xlsx\n",
            "/content/drive/MyDrive/wada/Kotwali PS_Ankari_VCNB_Uptodate_18.05.2023.xlsx\n",
            "/content/drive/MyDrive/wada/Kotwali PS_Baripali_VCNB_Uptodate_18.05.2023.xlsx\n",
            "/content/drive/MyDrive/wada/TownPSBGP_VCNB_Nagar_Parishad_Sector3_Uptodate_19_05_2023.xlsx\n",
            "/content/drive/MyDrive/wada/1.TownPSBGP_VCNB_Total Final_Panchayat_Ward_Uptodate_19.05.2023.xlsx\n",
            "/content/drive/MyDrive/wada/TownPSBGP_VCNB_Nagar_Parishad_Sector2_Uptodate_19_05_2023.xlsx\n",
            "/content/drive/MyDrive/wada/TownPSBGP_VCNB_Nagar_Parishad_Sector1_Uptodate_19_05_2023.xlsx\n",
            "/content/drive/MyDrive/wada/TownPSBGP_VCNB_Nagar_Parishad_Sector4_Uptodate_19_05_2023.xlsx\n",
            "printed all the files\n"
          ]
        }
      ]
    },
    {
      "cell_type": "code",
      "source": [
        "from google.colab import drive\n",
        "drive.mount('/content/drive')\n",
        "\n",
        "\n",
        "\n",
        "import os\n",
        "\n",
        "path = '/content/drive/MyDrive/wada'  # Set the path to your Google Drive folder\n",
        "\n",
        "# TODO\n",
        "# path = '/content/Shared with me/MyDrive/Kotwali PS_VCNB_BGP'  # Set the path to your Google Drive folder\n",
        "\n",
        "# List all files in the specified path\n",
        "files = []\n",
        "sample_filename =  '/content/drive/MyDrive/wadta/1 Kotwali_Total Final Report_VCNB_Uptodate 18.05.2023.xlsx'\n",
        "for root, _, filenames in os.walk(path):\n",
        "    for filename in filenames:\n",
        "        if str(filename)[0] == \"1\":\n",
        "          files.append(os.path.join(root, filename))\n",
        "        \n",
        "# Print the list of files\n",
        "for file in files:\n",
        "    print(file)\n",
        "\n",
        "print(\"printed all the files\")\n",
        "\n",
        "df = pd.read_excel(files[0], )\n",
        "df.to_excel('/content/drive/MyDrive/Combined_Sheets_Output/combined_sheets.xlsx', index=False)\n",
        "\n",
        "print(df)\n"
      ],
      "metadata": {
        "colab": {
          "base_uri": "https://localhost:8080/"
        },
        "id": "G5fc0wVRAiNe",
        "outputId": "55461a3e-63d3-4c07-d8c4-4d51a9d74f1a"
      },
      "execution_count": 59,
      "outputs": [
        {
          "output_type": "stream",
          "name": "stdout",
          "text": [
            "Drive already mounted at /content/drive; to attempt to forcibly remount, call drive.mount(\"/content/drive\", force_remount=True).\n",
            "/content/drive/MyDrive/wada/1 Kotwali_Total Final Report_VCNB_Uptodate 18_05_2023.xlsx\n",
            "/content/drive/MyDrive/wada/1.TownPSBGP_VCNB_Total Final_Panchayat_Ward_Uptodate_19.05.2023.xlsx\n",
            "/content/drive/MyDrive/wada/1 Copy of 1 Kotwali_Total Final Report_VCNB_Uptodate 18_05_2023.xlsx\n",
            "printed all the files\n",
            "   Sl No. Name of District Name of Subdivision  PS Name  \\\n",
            "0       1           Nawada           Nugachiya  Kotwali   \n",
            "1       2           Nawada           Nugachiya  Kotwali   \n",
            "2       3           Nawada           Nugachiya  Kotwali   \n",
            "3       4           Nawada           Nugachiya  Kotwali   \n",
            "4       5           Nawada           Nugachiya  Kotwali   \n",
            "5  Total-              NaN                 NaN      NaN   \n",
            "\n",
            "  Name of Panchyat/Sector        Name of Sector Officer& Mobile Number  \\\n",
            "0                   Akari         Kusumlal paswan ASI MO NO-8368744645   \n",
            "1               Babhanour  Ramjeevan Singh Yadav ASI Mo No- 7061003014   \n",
            "2               Bari pali      Sanjay kumar varma SI Mo NO 9431888462    \n",
            "3                 Jamuara       Sanjay kumar varma SI Mo No-9431888462   \n",
            "4                  Khanwa         Mithlesh kumar ASI Mo NO 8540805875    \n",
            "5                     NaN                                          NaN   \n",
            "\n",
            "   Name of Villages/Ward (Write with commas)  Total No Of Village/Ward  \\\n",
            "0                                        NaN                         6   \n",
            "1                                        NaN                         6   \n",
            "2                                        NaN                         4   \n",
            "3                                        NaN                         9   \n",
            "4                                        NaN                         7   \n",
            "5                                        NaN                        32   \n",
            "\n",
            "   Name of Tolas/Mohallas (Write with commas)  Total No Tolas/Mohallas  ...  \\\n",
            "0                                         NaN                      2.0  ...   \n",
            "1                                         NaN                      NaN  ...   \n",
            "2                                         NaN                      NaN  ...   \n",
            "3                                         NaN                      NaN  ...   \n",
            "4                                         NaN                      NaN  ...   \n",
            "5                                         NaN                      2.0  ...   \n",
            "\n",
            "   Total no. of Active criminals  Total no. of Bootleggers  \\\n",
            "0                            NaN                       NaN   \n",
            "1                            NaN                       NaN   \n",
            "2                            1.0                      11.0   \n",
            "3                            NaN                       NaN   \n",
            "4                            9.0                       2.0   \n",
            "5                           10.0                      13.0   \n",
            "\n",
            "   Total no. of Bad Elements  Total no. of Gundas  Total no. of Warranties  \\\n",
            "0                        NaN                  NaN                      NaN   \n",
            "1                        NaN                  NaN                      NaN   \n",
            "2                       10.0                  NaN                      NaN   \n",
            "3                        NaN                  NaN                      NaN   \n",
            "4                        NaN                  NaN                      NaN   \n",
            "5                       10.0                  0.0                      0.0   \n",
            "\n",
            "   Total no. of Land Dispute  Total no. of Arms Licensee  \\\n",
            "0                        NaN                         NaN   \n",
            "1                        NaN                         NaN   \n",
            "2                        NaN                         NaN   \n",
            "3                        NaN                         NaN   \n",
            "4                        NaN                         NaN   \n",
            "5                        0.0                         0.0   \n",
            "\n",
            "   Total no. of Govt Employees  Total no. of Public Representative  \\\n",
            "0                          NaN                                 NaN   \n",
            "1                          NaN                                 NaN   \n",
            "2                          NaN                                 NaN   \n",
            "3                          NaN                                 NaN   \n",
            "4                          NaN                                 NaN   \n",
            "5                          0.0                                 0.0   \n",
            "\n",
            "   Total no. of PDS Vendors  \n",
            "0                       NaN  \n",
            "1                       NaN  \n",
            "2                       NaN  \n",
            "3                       NaN  \n",
            "4                       NaN  \n",
            "5                       0.0  \n",
            "\n",
            "[6 rows x 36 columns]\n"
          ]
        }
      ]
    },
    {
      "cell_type": "code",
      "source": [],
      "metadata": {
        "colab": {
          "base_uri": "https://localhost:8080/"
        },
        "id": "4SgYU_AyFbmq",
        "outputId": "dcbe57b4-d2f7-4851-d858-35f8d977297b"
      },
      "execution_count": 62,
      "outputs": [
        {
          "output_type": "stream",
          "name": "stdout",
          "text": [
            "Drive already mounted at /content/drive; to attempt to forcibly remount, call drive.mount(\"/content/drive\", force_remount=True).\n",
            "/content/drive/MyDrive/wada/1 Kotwali_Total Final Report_VCNB_Uptodate 18_05_2023.xlsx\n",
            "/content/drive/MyDrive/wada/1.TownPSBGP_VCNB_Total Final_Panchayat_Ward_Uptodate_19.05.2023.xlsx\n",
            "/content/drive/MyDrive/wada/1 Copy of 1 Kotwali_Total Final Report_VCNB_Uptodate 18_05_2023.xlsx\n",
            "appending data for: file_name: /content/drive/MyDrive/wada/1 Kotwali_Total Final Report_VCNB_Uptodate 18_05_2023.xlsx\n",
            "appending data for: file_name: /content/drive/MyDrive/wada/1.TownPSBGP_VCNB_Total Final_Panchayat_Ward_Uptodate_19.05.2023.xlsx\n",
            "appending data for: file_name: /content/drive/MyDrive/wada/1 Copy of 1 Kotwali_Total Final Report_VCNB_Uptodate 18_05_2023.xlsx\n"
          ]
        }
      ]
    },
    {
      "cell_type": "code",
      "source": [
        "from google.colab import drive\n",
        "drive.mount('/content/drive')\n",
        "\n",
        "\n",
        "\n",
        "import os\n",
        "import pandas as pd\n",
        "\n",
        "path = '/content/drive/MyDrive/wada'  # Set the path to your Google Drive folder\n",
        "\n",
        "# TODO\n",
        "# path = '/content/Shared with me/MyDrive/Kotwali PS_VCNB_BGP'  # Set the path to your Google Drive folder\n",
        "\n",
        "# List all files in the specified path\n",
        "files = []\n",
        "# DataFrames List\n",
        "df_list = []\n",
        "# sample_filename =  '/content/drive/MyDrive/wadta/1 Kotwali_Total Final Report_VCNB_Uptodate 18.05.2023.xlsx'\n",
        "\n",
        "temp_list = []\n",
        "df_sample = []\n",
        "final_cols_list = []\n",
        "\n",
        "for root, _, filenames in os.walk(path):\n",
        "    for sample_filename in filenames:\n",
        "        if str(sample_filename)[0] == \"1\":\n",
        "          print(f\"reading sample_filename : {sample_filename}\")\n",
        "          temp_list = list(pd.read_excel(sample_filename).columns.values)\n",
        "          df_sample = pd.read_excel(sample_filename)\n",
        "          final_cols_list = list(df_sample.columns.values)\n",
        "          break\n",
        "\n",
        "print(f\"final_cols_list: {final_cols_list}\")\n",
        "for root, _, filenames in os.walk(path):\n",
        "    for filename in filenames:\n",
        "        if str(filename)[0] == \"1\":          \n",
        "          df_temp = pd.read_excel(filename)\n",
        "          if temp_list == final_cols_list:\n",
        "            # Append in DataFrames List only if temp_list == final_cols_list\n",
        "            df_list.append(pd.read_excel(filename))\n",
        "          else:\n",
        "            # Issues found in files....\n",
        "            print('Extra Colums found', list(set(final_cols_list).symmetric_difference(set(temp_list))))\n",
        "            print(\"Issue found in files : \", file, \"\\n\")\n",
        "          files.append(os.path.join(root, filename))\n",
        "\n",
        "# Print the list of files\n",
        "for file in files:\n",
        "    print(file)\n",
        "\n",
        "print(\"printed all the files\")\n",
        "\n",
        "# Concatenate all DataFrames\n",
        "big_df   = pd.concat(df_list, ignore_index=True)\n",
        "big_df.sort_values(by=[big_df.columns[0]], inplace=True)\n",
        "\n",
        "\n",
        "# Export Dataframe into Excel file at separate folder in Drive.\n",
        "big_df.to_excel('/content/drive/MyDrive/Combined_Sheets_Output/combined_sheets.xlsx', index=False)\n",
        "print(\"Excel Sheet Created Successfully!!!\")\n",
        "\n",
        "\n"
      ],
      "metadata": {
        "colab": {
          "base_uri": "https://localhost:8080/",
          "height": 415
        },
        "id": "fqK6xESOBZHW",
        "outputId": "bf5e08bc-2861-4b8b-c58e-95076c0304fd"
      },
      "execution_count": 29,
      "outputs": [
        {
          "output_type": "stream",
          "name": "stdout",
          "text": [
            "Drive already mounted at /content/drive; to attempt to forcibly remount, call drive.mount(\"/content/drive\", force_remount=True).\n",
            "reading sample_filename : 1 Kotwali_Total Final Report_VCNB_Uptodate 18.05.2023.xlsx\n"
          ]
        },
        {
          "output_type": "error",
          "ename": "FileNotFoundError",
          "evalue": "ignored",
          "traceback": [
            "\u001b[0;31m---------------------------------------------------------------------------\u001b[0m",
            "\u001b[0;31mFileNotFoundError\u001b[0m                         Traceback (most recent call last)",
            "\u001b[0;32m<ipython-input-29-a660a04fc1e8>\u001b[0m in \u001b[0;36m<cell line: 24>\u001b[0;34m()\u001b[0m\n\u001b[1;32m     26\u001b[0m         \u001b[0;32mif\u001b[0m \u001b[0mstr\u001b[0m\u001b[0;34m(\u001b[0m\u001b[0msample_filename\u001b[0m\u001b[0;34m)\u001b[0m\u001b[0;34m[\u001b[0m\u001b[0;36m0\u001b[0m\u001b[0;34m]\u001b[0m \u001b[0;34m==\u001b[0m \u001b[0;34m\"1\"\u001b[0m\u001b[0;34m:\u001b[0m\u001b[0;34m\u001b[0m\u001b[0;34m\u001b[0m\u001b[0m\n\u001b[1;32m     27\u001b[0m           \u001b[0mprint\u001b[0m\u001b[0;34m(\u001b[0m\u001b[0;34mf\"reading sample_filename : {sample_filename}\"\u001b[0m\u001b[0;34m)\u001b[0m\u001b[0;34m\u001b[0m\u001b[0;34m\u001b[0m\u001b[0m\n\u001b[0;32m---> 28\u001b[0;31m           \u001b[0mtemp_list\u001b[0m \u001b[0;34m=\u001b[0m \u001b[0mlist\u001b[0m\u001b[0;34m(\u001b[0m\u001b[0mpd\u001b[0m\u001b[0;34m.\u001b[0m\u001b[0mread_excel\u001b[0m\u001b[0;34m(\u001b[0m\u001b[0msample_filename\u001b[0m\u001b[0;34m)\u001b[0m\u001b[0;34m.\u001b[0m\u001b[0mcolumns\u001b[0m\u001b[0;34m.\u001b[0m\u001b[0mvalues\u001b[0m\u001b[0;34m)\u001b[0m\u001b[0;34m\u001b[0m\u001b[0;34m\u001b[0m\u001b[0m\n\u001b[0m\u001b[1;32m     29\u001b[0m           \u001b[0mdf_sample\u001b[0m \u001b[0;34m=\u001b[0m \u001b[0mpd\u001b[0m\u001b[0;34m.\u001b[0m\u001b[0mread_excel\u001b[0m\u001b[0;34m(\u001b[0m\u001b[0msample_filename\u001b[0m\u001b[0;34m)\u001b[0m\u001b[0;34m\u001b[0m\u001b[0;34m\u001b[0m\u001b[0m\n\u001b[1;32m     30\u001b[0m           \u001b[0mfinal_cols_list\u001b[0m \u001b[0;34m=\u001b[0m \u001b[0mlist\u001b[0m\u001b[0;34m(\u001b[0m\u001b[0mdf_sample\u001b[0m\u001b[0;34m.\u001b[0m\u001b[0mcolumns\u001b[0m\u001b[0;34m.\u001b[0m\u001b[0mvalues\u001b[0m\u001b[0;34m)\u001b[0m\u001b[0;34m\u001b[0m\u001b[0;34m\u001b[0m\u001b[0m\n",
            "\u001b[0;32m/usr/local/lib/python3.10/dist-packages/pandas/util/_decorators.py\u001b[0m in \u001b[0;36mwrapper\u001b[0;34m(*args, **kwargs)\u001b[0m\n\u001b[1;32m    209\u001b[0m                 \u001b[0;32melse\u001b[0m\u001b[0;34m:\u001b[0m\u001b[0;34m\u001b[0m\u001b[0;34m\u001b[0m\u001b[0m\n\u001b[1;32m    210\u001b[0m                     \u001b[0mkwargs\u001b[0m\u001b[0;34m[\u001b[0m\u001b[0mnew_arg_name\u001b[0m\u001b[0;34m]\u001b[0m \u001b[0;34m=\u001b[0m \u001b[0mnew_arg_value\u001b[0m\u001b[0;34m\u001b[0m\u001b[0;34m\u001b[0m\u001b[0m\n\u001b[0;32m--> 211\u001b[0;31m             \u001b[0;32mreturn\u001b[0m \u001b[0mfunc\u001b[0m\u001b[0;34m(\u001b[0m\u001b[0;34m*\u001b[0m\u001b[0margs\u001b[0m\u001b[0;34m,\u001b[0m \u001b[0;34m**\u001b[0m\u001b[0mkwargs\u001b[0m\u001b[0;34m)\u001b[0m\u001b[0;34m\u001b[0m\u001b[0;34m\u001b[0m\u001b[0m\n\u001b[0m\u001b[1;32m    212\u001b[0m \u001b[0;34m\u001b[0m\u001b[0m\n\u001b[1;32m    213\u001b[0m         \u001b[0;32mreturn\u001b[0m \u001b[0mcast\u001b[0m\u001b[0;34m(\u001b[0m\u001b[0mF\u001b[0m\u001b[0;34m,\u001b[0m \u001b[0mwrapper\u001b[0m\u001b[0;34m)\u001b[0m\u001b[0;34m\u001b[0m\u001b[0;34m\u001b[0m\u001b[0m\n",
            "\u001b[0;32m/usr/local/lib/python3.10/dist-packages/pandas/util/_decorators.py\u001b[0m in \u001b[0;36mwrapper\u001b[0;34m(*args, **kwargs)\u001b[0m\n\u001b[1;32m    329\u001b[0m                     \u001b[0mstacklevel\u001b[0m\u001b[0;34m=\u001b[0m\u001b[0mfind_stack_level\u001b[0m\u001b[0;34m(\u001b[0m\u001b[0;34m)\u001b[0m\u001b[0;34m,\u001b[0m\u001b[0;34m\u001b[0m\u001b[0;34m\u001b[0m\u001b[0m\n\u001b[1;32m    330\u001b[0m                 )\n\u001b[0;32m--> 331\u001b[0;31m             \u001b[0;32mreturn\u001b[0m \u001b[0mfunc\u001b[0m\u001b[0;34m(\u001b[0m\u001b[0;34m*\u001b[0m\u001b[0margs\u001b[0m\u001b[0;34m,\u001b[0m \u001b[0;34m**\u001b[0m\u001b[0mkwargs\u001b[0m\u001b[0;34m)\u001b[0m\u001b[0;34m\u001b[0m\u001b[0;34m\u001b[0m\u001b[0m\n\u001b[0m\u001b[1;32m    332\u001b[0m \u001b[0;34m\u001b[0m\u001b[0m\n\u001b[1;32m    333\u001b[0m         \u001b[0;31m# error: \"Callable[[VarArg(Any), KwArg(Any)], Any]\" has no\u001b[0m\u001b[0;34m\u001b[0m\u001b[0;34m\u001b[0m\u001b[0m\n",
            "\u001b[0;32m/usr/local/lib/python3.10/dist-packages/pandas/io/excel/_base.py\u001b[0m in \u001b[0;36mread_excel\u001b[0;34m(io, sheet_name, header, names, index_col, usecols, squeeze, dtype, engine, converters, true_values, false_values, skiprows, nrows, na_values, keep_default_na, na_filter, verbose, parse_dates, date_parser, thousands, decimal, comment, skipfooter, convert_float, mangle_dupe_cols, storage_options)\u001b[0m\n\u001b[1;32m    480\u001b[0m     \u001b[0;32mif\u001b[0m \u001b[0;32mnot\u001b[0m \u001b[0misinstance\u001b[0m\u001b[0;34m(\u001b[0m\u001b[0mio\u001b[0m\u001b[0;34m,\u001b[0m \u001b[0mExcelFile\u001b[0m\u001b[0;34m)\u001b[0m\u001b[0;34m:\u001b[0m\u001b[0;34m\u001b[0m\u001b[0;34m\u001b[0m\u001b[0m\n\u001b[1;32m    481\u001b[0m         \u001b[0mshould_close\u001b[0m \u001b[0;34m=\u001b[0m \u001b[0;32mTrue\u001b[0m\u001b[0;34m\u001b[0m\u001b[0;34m\u001b[0m\u001b[0m\n\u001b[0;32m--> 482\u001b[0;31m         \u001b[0mio\u001b[0m \u001b[0;34m=\u001b[0m \u001b[0mExcelFile\u001b[0m\u001b[0;34m(\u001b[0m\u001b[0mio\u001b[0m\u001b[0;34m,\u001b[0m \u001b[0mstorage_options\u001b[0m\u001b[0;34m=\u001b[0m\u001b[0mstorage_options\u001b[0m\u001b[0;34m,\u001b[0m \u001b[0mengine\u001b[0m\u001b[0;34m=\u001b[0m\u001b[0mengine\u001b[0m\u001b[0;34m)\u001b[0m\u001b[0;34m\u001b[0m\u001b[0;34m\u001b[0m\u001b[0m\n\u001b[0m\u001b[1;32m    483\u001b[0m     \u001b[0;32melif\u001b[0m \u001b[0mengine\u001b[0m \u001b[0;32mand\u001b[0m \u001b[0mengine\u001b[0m \u001b[0;34m!=\u001b[0m \u001b[0mio\u001b[0m\u001b[0;34m.\u001b[0m\u001b[0mengine\u001b[0m\u001b[0;34m:\u001b[0m\u001b[0;34m\u001b[0m\u001b[0;34m\u001b[0m\u001b[0m\n\u001b[1;32m    484\u001b[0m         raise ValueError(\n",
            "\u001b[0;32m/usr/local/lib/python3.10/dist-packages/pandas/io/excel/_base.py\u001b[0m in \u001b[0;36m__init__\u001b[0;34m(self, path_or_buffer, engine, storage_options)\u001b[0m\n\u001b[1;32m   1650\u001b[0m                 \u001b[0mext\u001b[0m \u001b[0;34m=\u001b[0m \u001b[0;34m\"xls\"\u001b[0m\u001b[0;34m\u001b[0m\u001b[0;34m\u001b[0m\u001b[0m\n\u001b[1;32m   1651\u001b[0m             \u001b[0;32melse\u001b[0m\u001b[0;34m:\u001b[0m\u001b[0;34m\u001b[0m\u001b[0;34m\u001b[0m\u001b[0m\n\u001b[0;32m-> 1652\u001b[0;31m                 ext = inspect_excel_format(\n\u001b[0m\u001b[1;32m   1653\u001b[0m                     \u001b[0mcontent_or_path\u001b[0m\u001b[0;34m=\u001b[0m\u001b[0mpath_or_buffer\u001b[0m\u001b[0;34m,\u001b[0m \u001b[0mstorage_options\u001b[0m\u001b[0;34m=\u001b[0m\u001b[0mstorage_options\u001b[0m\u001b[0;34m\u001b[0m\u001b[0;34m\u001b[0m\u001b[0m\n\u001b[1;32m   1654\u001b[0m                 )\n",
            "\u001b[0;32m/usr/local/lib/python3.10/dist-packages/pandas/io/excel/_base.py\u001b[0m in \u001b[0;36minspect_excel_format\u001b[0;34m(content_or_path, storage_options)\u001b[0m\n\u001b[1;32m   1523\u001b[0m         \u001b[0mcontent_or_path\u001b[0m \u001b[0;34m=\u001b[0m \u001b[0mBytesIO\u001b[0m\u001b[0;34m(\u001b[0m\u001b[0mcontent_or_path\u001b[0m\u001b[0;34m)\u001b[0m\u001b[0;34m\u001b[0m\u001b[0;34m\u001b[0m\u001b[0m\n\u001b[1;32m   1524\u001b[0m \u001b[0;34m\u001b[0m\u001b[0m\n\u001b[0;32m-> 1525\u001b[0;31m     with get_handle(\n\u001b[0m\u001b[1;32m   1526\u001b[0m         \u001b[0mcontent_or_path\u001b[0m\u001b[0;34m,\u001b[0m \u001b[0;34m\"rb\"\u001b[0m\u001b[0;34m,\u001b[0m \u001b[0mstorage_options\u001b[0m\u001b[0;34m=\u001b[0m\u001b[0mstorage_options\u001b[0m\u001b[0;34m,\u001b[0m \u001b[0mis_text\u001b[0m\u001b[0;34m=\u001b[0m\u001b[0;32mFalse\u001b[0m\u001b[0;34m\u001b[0m\u001b[0;34m\u001b[0m\u001b[0m\n\u001b[1;32m   1527\u001b[0m     ) as handle:\n",
            "\u001b[0;32m/usr/local/lib/python3.10/dist-packages/pandas/io/common.py\u001b[0m in \u001b[0;36mget_handle\u001b[0;34m(path_or_buf, mode, encoding, compression, memory_map, is_text, errors, storage_options)\u001b[0m\n\u001b[1;32m    863\u001b[0m         \u001b[0;32melse\u001b[0m\u001b[0;34m:\u001b[0m\u001b[0;34m\u001b[0m\u001b[0;34m\u001b[0m\u001b[0m\n\u001b[1;32m    864\u001b[0m             \u001b[0;31m# Binary mode\u001b[0m\u001b[0;34m\u001b[0m\u001b[0;34m\u001b[0m\u001b[0m\n\u001b[0;32m--> 865\u001b[0;31m             \u001b[0mhandle\u001b[0m \u001b[0;34m=\u001b[0m \u001b[0mopen\u001b[0m\u001b[0;34m(\u001b[0m\u001b[0mhandle\u001b[0m\u001b[0;34m,\u001b[0m \u001b[0mioargs\u001b[0m\u001b[0;34m.\u001b[0m\u001b[0mmode\u001b[0m\u001b[0;34m)\u001b[0m\u001b[0;34m\u001b[0m\u001b[0;34m\u001b[0m\u001b[0m\n\u001b[0m\u001b[1;32m    866\u001b[0m         \u001b[0mhandles\u001b[0m\u001b[0;34m.\u001b[0m\u001b[0mappend\u001b[0m\u001b[0;34m(\u001b[0m\u001b[0mhandle\u001b[0m\u001b[0;34m)\u001b[0m\u001b[0;34m\u001b[0m\u001b[0;34m\u001b[0m\u001b[0m\n\u001b[1;32m    867\u001b[0m \u001b[0;34m\u001b[0m\u001b[0m\n",
            "\u001b[0;31mFileNotFoundError\u001b[0m: [Errno 2] No such file or directory: '1 Kotwali_Total Final Report_VCNB_Uptodate 18.05.2023.xlsx'"
          ]
        }
      ]
    },
    {
      "cell_type": "code",
      "source": [],
      "metadata": {
        "id": "dXhETZ0gNVlV"
      },
      "execution_count": null,
      "outputs": []
    },
    {
      "cell_type": "code",
      "source": [
        "\n",
        "\n",
        "import pandas as pd\n",
        "import glob\n",
        "\n",
        "\n",
        "# path of the drive folder containing all sheets to be merged\n",
        "folderPath = \"/content/drive/MyDrive/Spoton/\"  \n",
        "\n",
        "print(f\"reading data from folder name: {folderPath}\")\n",
        "# Get xlsx files list from a folder\n",
        "all_files = glob.glob(folderPath)\n",
        "print(all_files)\n",
        "# xlsx_files = glob.glob(folderPath + \"/*.xlsx\") + glob.glob(folderPath + \"/*/*.xlsx\")\n",
        "\n",
        "\n",
        "\n"
      ],
      "metadata": {
        "colab": {
          "base_uri": "https://localhost:8080/"
        },
        "id": "GngnlYOK5Lla",
        "outputId": "30c608f6-d457-4061-8120-d90d0c40223f"
      },
      "execution_count": 18,
      "outputs": [
        {
          "output_type": "stream",
          "name": "stdout",
          "text": [
            "reading data from folder name: /content/drive/MyDrive/Spoton/\n",
            "['/content/drive/MyDrive/Spoton/']\n"
          ]
        }
      ]
    },
    {
      "cell_type": "code",
      "source": [
        "import pandas as pd\n",
        "import glob\n",
        "\n",
        "\n",
        "# path of the drive folder containing all sheets to be merged\n",
        "folderPath = \"/content/drive/MyDrive/wada/\"  \n",
        "file_output_1 = \"nawada_vcnb_ps_wise_final_numbers.xlsx\"\n",
        "file_output_2 = \"nawada_vcnb_panchayat_wise_final_numbers.xlsx\"\n",
        "file_output_3 = \"nawada_vcnb_panchayat_wise_details.xlsx\"\n",
        "\n",
        "# Get xlsx files list from a folder\n",
        "xlsx_files = glob.glob(folderPath + \"/*.xlsx\") + glob.glob(folderPath + \"/*/*.xlsx\")\n",
        "\n",
        "print(f\"xlsx_files: {xlsx_files}\")\n"
      ],
      "metadata": {
        "colab": {
          "base_uri": "https://localhost:8080/"
        },
        "id": "kafuy-At37ou",
        "outputId": "93fb2a16-f01f-4911-a1ba-df9c2951d4de"
      },
      "execution_count": 56,
      "outputs": [
        {
          "output_type": "stream",
          "name": "stdout",
          "text": [
            "xlsx_files: ['/content/drive/MyDrive/wada/1 Kotwali_Total Final Report_VCNB_Uptodate 18_05_2023.xlsx', '/content/drive/MyDrive/wada/Kotwali PS_jamuara_VCNB_Uptodate_18.05.2023.xlsx', '/content/drive/MyDrive/wada/Kotwali PS_khanwa_VCNB_Uptodate_18.05.2023.xlsx', '/content/drive/MyDrive/wada/Kotwali PS_Babhanour_VCNB_Uptodate_18.05.2023.xlsx', '/content/drive/MyDrive/wada/Kotwali PS_Ankari_VCNB_Uptodate_18.05.2023.xlsx', '/content/drive/MyDrive/wada/Kotwali PS_Baripali_VCNB_Uptodate_18.05.2023.xlsx', '/content/drive/MyDrive/wada/TownPSBGP_VCNB_Nagar_Parishad_Sector3_Uptodate_19_05_2023.xlsx', '/content/drive/MyDrive/wada/1.TownPSBGP_VCNB_Total Final_Panchayat_Ward_Uptodate_19.05.2023.xlsx', '/content/drive/MyDrive/wada/TownPSBGP_VCNB_Nagar_Parishad_Sector2_Uptodate_19_05_2023.xlsx', '/content/drive/MyDrive/wada/TownPSBGP_VCNB_Nagar_Parishad_Sector1_Uptodate_19_05_2023.xlsx', '/content/drive/MyDrive/wada/TownPSBGP_VCNB_Nagar_Parishad_Sector4_Uptodate_19_05_2023.xlsx', '/content/drive/MyDrive/wada/1 Copy of 1 Kotwali_Total Final Report_VCNB_Uptodate 18_05_2023.xlsx']\n"
          ]
        }
      ]
    },
    {
      "cell_type": "code",
      "source": [
        "# List of columns that must be there in any sheet \n",
        "df = pd.read_excel(xlsx_files[0])\n",
        "final_cols_list = list(df.columns.values)\n",
        "\n",
        "# DataFrames List\n",
        "df_list = []\n",
        "\n",
        "for file in xlsx_files:\n",
        "  print(f\"file : {file}\")\n",
        "  if str(file[0]) == \"1\":\n",
        "    temp_list = list(pd.read_excel(file).columns.values)\n",
        "    if temp_list == final_cols_list:\n",
        "      # Append in DataFrames List only if temp_list == final_cols_list\n",
        "      df_list.append(pd.read_excel(file))\n",
        "    else:\n",
        "      # Issues found in files....\n",
        "      print('Extra Colums found', list(set(final_cols_list).symmetric_difference(set(temp_list))))\n",
        "      print(\"Issue found in files : \", file, \"\\n\")\n",
        "\n",
        "# Concatenate all DataFrames\n",
        "big_df   = pd.concat(df_list, ignore_index=True)\n",
        "big_df.sort_values(by=[big_df.columns[0]], inplace=True)\n",
        "\n",
        "# Export Dataframe into Excel file at separate folder in Drive.\n",
        "big_df.to_excel(f'/content/drive/MyDrive/Combined_Sheets_Output/{file_output_1}', index=False)\n",
        "print(\"Excel Sheet Created Successfully!!!\")\n"
      ],
      "metadata": {
        "colab": {
          "base_uri": "https://localhost:8080/",
          "height": 588
        },
        "id": "Og4L0QCc3vfV",
        "outputId": "1bba60eb-e6dd-459e-e534-3198cc7ec21b"
      },
      "execution_count": 58,
      "outputs": [
        {
          "output_type": "stream",
          "name": "stdout",
          "text": [
            "file : /content/drive/MyDrive/wada/1 Kotwali_Total Final Report_VCNB_Uptodate 18_05_2023.xlsx\n",
            "file : /content/drive/MyDrive/wada/Kotwali PS_jamuara_VCNB_Uptodate_18.05.2023.xlsx\n",
            "file : /content/drive/MyDrive/wada/Kotwali PS_khanwa_VCNB_Uptodate_18.05.2023.xlsx\n",
            "file : /content/drive/MyDrive/wada/Kotwali PS_Babhanour_VCNB_Uptodate_18.05.2023.xlsx\n",
            "file : /content/drive/MyDrive/wada/Kotwali PS_Ankari_VCNB_Uptodate_18.05.2023.xlsx\n",
            "file : /content/drive/MyDrive/wada/Kotwali PS_Baripali_VCNB_Uptodate_18.05.2023.xlsx\n",
            "file : /content/drive/MyDrive/wada/TownPSBGP_VCNB_Nagar_Parishad_Sector3_Uptodate_19_05_2023.xlsx\n",
            "file : /content/drive/MyDrive/wada/1.TownPSBGP_VCNB_Total Final_Panchayat_Ward_Uptodate_19.05.2023.xlsx\n",
            "file : /content/drive/MyDrive/wada/TownPSBGP_VCNB_Nagar_Parishad_Sector2_Uptodate_19_05_2023.xlsx\n",
            "file : /content/drive/MyDrive/wada/TownPSBGP_VCNB_Nagar_Parishad_Sector1_Uptodate_19_05_2023.xlsx\n",
            "file : /content/drive/MyDrive/wada/TownPSBGP_VCNB_Nagar_Parishad_Sector4_Uptodate_19_05_2023.xlsx\n",
            "file : /content/drive/MyDrive/wada/1 Copy of 1 Kotwali_Total Final Report_VCNB_Uptodate 18_05_2023.xlsx\n"
          ]
        },
        {
          "output_type": "error",
          "ename": "ValueError",
          "evalue": "ignored",
          "traceback": [
            "\u001b[0;31m---------------------------------------------------------------------------\u001b[0m",
            "\u001b[0;31mValueError\u001b[0m                                Traceback (most recent call last)",
            "\u001b[0;32m<ipython-input-58-cf5c89afe1b5>\u001b[0m in \u001b[0;36m<cell line: 21>\u001b[0;34m()\u001b[0m\n\u001b[1;32m     19\u001b[0m \u001b[0;34m\u001b[0m\u001b[0m\n\u001b[1;32m     20\u001b[0m \u001b[0;31m# Concatenate all DataFrames\u001b[0m\u001b[0;34m\u001b[0m\u001b[0;34m\u001b[0m\u001b[0m\n\u001b[0;32m---> 21\u001b[0;31m \u001b[0mbig_df\u001b[0m   \u001b[0;34m=\u001b[0m \u001b[0mpd\u001b[0m\u001b[0;34m.\u001b[0m\u001b[0mconcat\u001b[0m\u001b[0;34m(\u001b[0m\u001b[0mdf_list\u001b[0m\u001b[0;34m,\u001b[0m \u001b[0mignore_index\u001b[0m\u001b[0;34m=\u001b[0m\u001b[0;32mTrue\u001b[0m\u001b[0;34m)\u001b[0m\u001b[0;34m\u001b[0m\u001b[0;34m\u001b[0m\u001b[0m\n\u001b[0m\u001b[1;32m     22\u001b[0m \u001b[0mbig_df\u001b[0m\u001b[0;34m.\u001b[0m\u001b[0msort_values\u001b[0m\u001b[0;34m(\u001b[0m\u001b[0mby\u001b[0m\u001b[0;34m=\u001b[0m\u001b[0;34m[\u001b[0m\u001b[0mbig_df\u001b[0m\u001b[0;34m.\u001b[0m\u001b[0mcolumns\u001b[0m\u001b[0;34m[\u001b[0m\u001b[0;36m0\u001b[0m\u001b[0;34m]\u001b[0m\u001b[0;34m]\u001b[0m\u001b[0;34m,\u001b[0m \u001b[0minplace\u001b[0m\u001b[0;34m=\u001b[0m\u001b[0;32mTrue\u001b[0m\u001b[0;34m)\u001b[0m\u001b[0;34m\u001b[0m\u001b[0;34m\u001b[0m\u001b[0m\n\u001b[1;32m     23\u001b[0m \u001b[0;34m\u001b[0m\u001b[0m\n",
            "\u001b[0;32m/usr/local/lib/python3.10/dist-packages/pandas/util/_decorators.py\u001b[0m in \u001b[0;36mwrapper\u001b[0;34m(*args, **kwargs)\u001b[0m\n\u001b[1;32m    329\u001b[0m                     \u001b[0mstacklevel\u001b[0m\u001b[0;34m=\u001b[0m\u001b[0mfind_stack_level\u001b[0m\u001b[0;34m(\u001b[0m\u001b[0;34m)\u001b[0m\u001b[0;34m,\u001b[0m\u001b[0;34m\u001b[0m\u001b[0;34m\u001b[0m\u001b[0m\n\u001b[1;32m    330\u001b[0m                 )\n\u001b[0;32m--> 331\u001b[0;31m             \u001b[0;32mreturn\u001b[0m \u001b[0mfunc\u001b[0m\u001b[0;34m(\u001b[0m\u001b[0;34m*\u001b[0m\u001b[0margs\u001b[0m\u001b[0;34m,\u001b[0m \u001b[0;34m**\u001b[0m\u001b[0mkwargs\u001b[0m\u001b[0;34m)\u001b[0m\u001b[0;34m\u001b[0m\u001b[0;34m\u001b[0m\u001b[0m\n\u001b[0m\u001b[1;32m    332\u001b[0m \u001b[0;34m\u001b[0m\u001b[0m\n\u001b[1;32m    333\u001b[0m         \u001b[0;31m# error: \"Callable[[VarArg(Any), KwArg(Any)], Any]\" has no\u001b[0m\u001b[0;34m\u001b[0m\u001b[0;34m\u001b[0m\u001b[0m\n",
            "\u001b[0;32m/usr/local/lib/python3.10/dist-packages/pandas/core/reshape/concat.py\u001b[0m in \u001b[0;36mconcat\u001b[0;34m(objs, axis, join, ignore_index, keys, levels, names, verify_integrity, sort, copy)\u001b[0m\n\u001b[1;32m    366\u001b[0m     \u001b[0;36m1\u001b[0m   \u001b[0;36m3\u001b[0m   \u001b[0;36m4\u001b[0m\u001b[0;34m\u001b[0m\u001b[0;34m\u001b[0m\u001b[0m\n\u001b[1;32m    367\u001b[0m     \"\"\"\n\u001b[0;32m--> 368\u001b[0;31m     op = _Concatenator(\n\u001b[0m\u001b[1;32m    369\u001b[0m         \u001b[0mobjs\u001b[0m\u001b[0;34m,\u001b[0m\u001b[0;34m\u001b[0m\u001b[0;34m\u001b[0m\u001b[0m\n\u001b[1;32m    370\u001b[0m         \u001b[0maxis\u001b[0m\u001b[0;34m=\u001b[0m\u001b[0maxis\u001b[0m\u001b[0;34m,\u001b[0m\u001b[0;34m\u001b[0m\u001b[0;34m\u001b[0m\u001b[0m\n",
            "\u001b[0;32m/usr/local/lib/python3.10/dist-packages/pandas/core/reshape/concat.py\u001b[0m in \u001b[0;36m__init__\u001b[0;34m(self, objs, axis, join, keys, levels, names, ignore_index, verify_integrity, copy, sort)\u001b[0m\n\u001b[1;32m    423\u001b[0m \u001b[0;34m\u001b[0m\u001b[0m\n\u001b[1;32m    424\u001b[0m         \u001b[0;32mif\u001b[0m \u001b[0mlen\u001b[0m\u001b[0;34m(\u001b[0m\u001b[0mobjs\u001b[0m\u001b[0;34m)\u001b[0m \u001b[0;34m==\u001b[0m \u001b[0;36m0\u001b[0m\u001b[0;34m:\u001b[0m\u001b[0;34m\u001b[0m\u001b[0;34m\u001b[0m\u001b[0m\n\u001b[0;32m--> 425\u001b[0;31m             \u001b[0;32mraise\u001b[0m \u001b[0mValueError\u001b[0m\u001b[0;34m(\u001b[0m\u001b[0;34m\"No objects to concatenate\"\u001b[0m\u001b[0;34m)\u001b[0m\u001b[0;34m\u001b[0m\u001b[0;34m\u001b[0m\u001b[0m\n\u001b[0m\u001b[1;32m    426\u001b[0m \u001b[0;34m\u001b[0m\u001b[0m\n\u001b[1;32m    427\u001b[0m         \u001b[0;32mif\u001b[0m \u001b[0mkeys\u001b[0m \u001b[0;32mis\u001b[0m \u001b[0;32mNone\u001b[0m\u001b[0;34m:\u001b[0m\u001b[0;34m\u001b[0m\u001b[0;34m\u001b[0m\u001b[0m\n",
            "\u001b[0;31mValueError\u001b[0m: No objects to concatenate"
          ]
        }
      ]
    },
    {
      "cell_type": "code",
      "source": [
        "from google.colab import drive\n",
        "drive.mount('/content/drive')\n",
        "\n",
        "\n",
        "\n",
        "import os\n",
        "\n",
        "path = '/content/drive/MyDrive/wada'  # Set the path to your Google Drive folder\n",
        "\n",
        "# DataFrames List\n",
        "df_list = []\n",
        "big_df = []\n",
        "\n",
        "# List all files in the specified path\n",
        "files = []\n",
        "# sample_filename =  '/content/drive/MyDrive/wadta/1 Kotwali_Total Final Report_VCNB_Uptodate 18.05.2023.xlsx'\n",
        "for root, _, filenames in os.walk(path):\n",
        "    for filename in filenames:\n",
        "        if str(filename)[0] == \"1\":\n",
        "          files.append(os.path.join(root, filename))\n",
        "\n",
        "\n",
        "# Print the list of files\n",
        "folderPath = \"/content/drive/MyDrive/wada/\"  \n",
        "file_output_1 = \"nawada_vcnb_ps_wise_final_numbers.xlsx\"\n",
        "\n",
        "for file_name in files:\n",
        "  print(f\"appending data for: file_name: {file_name}\")\n",
        "  df_list.append(pd.read_excel(file_name, sheet_name=0))\n",
        "\n",
        "\n",
        "\n",
        "\n",
        "# Concatenate all DataFrames\n",
        "big_df   = pd.concat(df_list, ignore_index=True)\n",
        "\n",
        "\n",
        "# Export Dataframe into Excel file at separate folder in Drive.\n",
        "big_df.to_excel(f'/content/drive/MyDrive/Combined_Sheets_Output/{file_output_1}.xlsx', index=False)\n"
      ],
      "metadata": {
        "colab": {
          "base_uri": "https://localhost:8080/"
        },
        "id": "T9F4yEd0NXRX",
        "outputId": "79633b59-1c12-4d54-cb8b-9aa5c91c3e0d"
      },
      "execution_count": 64,
      "outputs": [
        {
          "output_type": "stream",
          "name": "stdout",
          "text": [
            "Drive already mounted at /content/drive; to attempt to forcibly remount, call drive.mount(\"/content/drive\", force_remount=True).\n",
            "appending data for: file_name: /content/drive/MyDrive/wada/1 Kotwali_Total Final Report_VCNB_Uptodate 18_05_2023.xlsx\n",
            "appending data for: file_name: /content/drive/MyDrive/wada/1.TownPSBGP_VCNB_Total Final_Panchayat_Ward_Uptodate_19.05.2023.xlsx\n",
            "appending data for: file_name: /content/drive/MyDrive/wada/1 Copy of 1 Kotwali_Total Final Report_VCNB_Uptodate 18_05_2023.xlsx\n"
          ]
        }
      ]
    }
  ]
}